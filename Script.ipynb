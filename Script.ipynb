{
 "cells": [
  {
   "cell_type": "markdown",
   "metadata": {},
   "source": [
    "# Importing Module"
   ]
  },
  {
   "cell_type": "code",
   "execution_count": 3,
   "metadata": {
    "collapsed": true
   },
   "outputs": [],
   "source": [
    "import pandas as pd\n",
    "import numpy as np\n",
    "import matplotlib.pyplot as plt\n",
    "import seaborn as sns\n",
    "%matplotlib inline"
   ]
  },
  {
   "cell_type": "code",
   "execution_count": 2,
   "metadata": {
    "collapsed": true
   },
   "outputs": [],
   "source": [
    "df = pd.read_csv(\"train.csv\")"
   ]
  },
  {
   "cell_type": "code",
   "execution_count": 3,
   "metadata": {},
   "outputs": [
    {
     "data": {
      "text/plain": [
       "Index(['User_ID', 'Description', 'Browser_Used', 'Device_Used', 'Is_Response'], dtype='object')"
      ]
     },
     "execution_count": 3,
     "metadata": {},
     "output_type": "execute_result"
    }
   ],
   "source": [
    "df.columns"
   ]
  },
  {
   "cell_type": "code",
   "execution_count": 6,
   "metadata": {},
   "outputs": [
    {
     "data": {
      "text/plain": [
       "'not happy'"
      ]
     },
     "execution_count": 6,
     "metadata": {},
     "output_type": "execute_result"
    }
   ],
   "source": [
    "df['Is_Response'][2]"
   ]
  },
  {
   "cell_type": "code",
   "execution_count": 4,
   "metadata": {},
   "outputs": [
    {
     "data": {
      "text/plain": [
       "<matplotlib.axes._subplots.AxesSubplot at 0x11afc62e8>"
      ]
     },
     "execution_count": 4,
     "metadata": {},
     "output_type": "execute_result"
    },
    {
     "data": {
      "image/png": "[encoded data removed]",
      "text/plain": [
       "<matplotlib.figure.Figure at 0x10f4e2320>"
      ]
     },
     "metadata": {},
     "output_type": "display_data"
    }
   ],
   "source": [
    "sns.countplot(x='Is_Response',data=df)"
   ]
  },
  {
   "cell_type": "markdown",
   "metadata": {},
   "source": [
    "# Preprocessing "
   ]
  },
  {
   "cell_type": "code",
   "execution_count": 6,
   "metadata": {
    "collapsed": true
   },
   "outputs": [],
   "source": [
    "from nltk.corpus import stopwords,wordnet as wn\n",
    "from nltk.tokenize import wordpunct_tokenize,sent_tokenize\n",
    "from nltk import pos_tag\n",
    "from nltk.stem.wordnet import WordNetLemmatizer\n",
    "import re"
   ]
  },
  {
   "cell_type": "code",
   "execution_count": 140,
   "metadata": {
    "collapsed": true
   },
   "outputs": [],
   "source": [
    "def rem_punt(doc):\n",
    "    ans = re.sub('\"|\\\\n|\\(|\\)|,|\\.|[$!--+@#]',' ',doc)\n",
    "    ans = re.sub(' +',' ',ans)\n",
    "    ans = ans.lower()\n",
    "    return ans"
   ]
  },
  {
   "cell_type": "code",
   "execution_count": 142,
   "metadata": {
    "collapsed": true
   },
   "outputs": [],
   "source": [
    "df['RmNoise'] = df['Description'].apply(rem_punt)"
   ]
  },
  {
   "cell_type": "code",
   "execution_count": 144,
   "metadata": {
    "collapsed": true
   },
   "outputs": [],
   "source": [
    "def tokenize(document): \n",
    "    lemmy = []\n",
    "    for sent in sent_tokenize(document):\n",
    "        for token, tag in pos_tag(wordpunct_tokenize(sent)):\n",
    "            #print(token,tag)\n",
    "            if token in stop_word:\n",
    "                 continue\n",
    "            lemma = lemmatize(token, tag)\n",
    "            lemmy.append(lemma)\n",
    "    return lemmy\n",
    "\n",
    "def lemmatize(token, tag):\n",
    "    tag = {\n",
    "          'N': wn.NOUN,\n",
    "          'V': wn.VERB,\n",
    "          'R': wn.ADV,\n",
    "          'J': wn.ADJ\n",
    "    }.get(tag[0], wn.NOUN)\n",
    "    lemmatizer = WordNetLemmatizer()\n",
    "    return lemmatizer.lemmatize(token, tag)"
   ]
  },
  {
   "cell_type": "code",
   "execution_count": 145,
   "metadata": {
    "collapsed": true
   },
   "outputs": [],
   "source": [
    "df['Lemmitize'] = df['RmNoise'].apply(tokenize)"
   ]
  },
  {
   "cell_type": "code",
   "execution_count": 147,
   "metadata": {
    "collapsed": true
   },
   "outputs": [],
   "source": [
    "df.to_csv('train_lem.csv',index=False)"
   ]
  },
  {
   "cell_type": "code",
   "execution_count": 6,
   "metadata": {},
   "outputs": [
    {
     "data": {
      "text/html": [
       "<div>\n",
       "<style>\n",
       "    .dataframe thead tr:only-child th {\n",
       "        text-align: right;\n",
       "    }\n",
       "\n",
       "    .dataframe thead th {\n",
       "        text-align: left;\n",
       "    }\n",
       "\n",
       "    .dataframe tbody tr th {\n",
       "        vertical-align: top;\n",
       "    }\n",
       "</style>\n",
       "<table border=\"1\" class=\"dataframe\">\n",
       "  <thead>\n",
       "    <tr style=\"text-align: right;\">\n",
       "      <th></th>\n",
       "      <th>User_ID</th>\n",
       "      <th>Description</th>\n",
       "      <th>Browser_Used</th>\n",
       "      <th>Device_Used</th>\n",
       "      <th>Is_Response</th>\n",
       "      <th>Replacement</th>\n",
       "      <th>Lemmatization</th>\n",
       "    </tr>\n",
       "  </thead>\n",
       "  <tbody>\n",
       "    <tr>\n",
       "      <th>0</th>\n",
       "      <td>id10326</td>\n",
       "      <td>The room was kind of clean but had a VERY stro...</td>\n",
       "      <td>Edge</td>\n",
       "      <td>Mobile</td>\n",
       "      <td>not happy</td>\n",
       "      <td>['room', 'kind', 'clean', 'strong', 'smell', '...</td>\n",
       "      <td>['room', 'kind', 'clean', 'strong', 'smell', '...</td>\n",
       "    </tr>\n",
       "    <tr>\n",
       "      <th>1</th>\n",
       "      <td>id10327</td>\n",
       "      <td>I stayed at the Crown Plaza April -- - April -...</td>\n",
       "      <td>Internet Explorer</td>\n",
       "      <td>Mobile</td>\n",
       "      <td>not happy</td>\n",
       "      <td>['stayed', 'crown', 'plaza', 'april', 'april',...</td>\n",
       "      <td>['stay', 'crown', 'plaza', 'april', 'april', '...</td>\n",
       "    </tr>\n",
       "    <tr>\n",
       "      <th>2</th>\n",
       "      <td>id10328</td>\n",
       "      <td>I booked this hotel through Hotwire at the low...</td>\n",
       "      <td>Mozilla</td>\n",
       "      <td>Tablet</td>\n",
       "      <td>not happy</td>\n",
       "      <td>['booked', 'hotel', 'hotwire', 'lowest', 'pric...</td>\n",
       "      <td>['booked', 'hotel', 'hotwire', 'low', 'price',...</td>\n",
       "    </tr>\n",
       "    <tr>\n",
       "      <th>3</th>\n",
       "      <td>id10329</td>\n",
       "      <td>Stayed here with husband and sons on the way t...</td>\n",
       "      <td>InternetExplorer</td>\n",
       "      <td>Desktop</td>\n",
       "      <td>happy</td>\n",
       "      <td>['stayed', 'husband', 'sons', 'way', 'alaska',...</td>\n",
       "      <td>['stayed', 'husband', 'son', 'way', 'alaska', ...</td>\n",
       "    </tr>\n",
       "    <tr>\n",
       "      <th>4</th>\n",
       "      <td>id10330</td>\n",
       "      <td>My girlfriends and I stayed here to celebrate ...</td>\n",
       "      <td>Edge</td>\n",
       "      <td>Tablet</td>\n",
       "      <td>not happy</td>\n",
       "      <td>['girlfriends', 'stayed', 'celebrate', 'th', '...</td>\n",
       "      <td>['girlfriend', 'stay', 'celebrate', 'th', 'bir...</td>\n",
       "    </tr>\n",
       "    <tr>\n",
       "      <th>5</th>\n",
       "      <td>id10331</td>\n",
       "      <td>We had - rooms. One was very nice and clearly ...</td>\n",
       "      <td>InternetExplorer</td>\n",
       "      <td>Desktop</td>\n",
       "      <td>happy</td>\n",
       "      <td>['rooms', 'one', 'nice', 'clearly', 'updated',...</td>\n",
       "      <td>['room', 'one', 'nice', 'clearly', 'update', '...</td>\n",
       "    </tr>\n",
       "    <tr>\n",
       "      <th>6</th>\n",
       "      <td>id10332</td>\n",
       "      <td>My husband and I have stayed in this hotel a f...</td>\n",
       "      <td>Firefox</td>\n",
       "      <td>Tablet</td>\n",
       "      <td>not happy</td>\n",
       "      <td>['husband', 'stayed', 'hotel', 'times', 'thoug...</td>\n",
       "      <td>['husband', 'stay', 'hotel', 'time', 'though',...</td>\n",
       "    </tr>\n",
       "    <tr>\n",
       "      <th>7</th>\n",
       "      <td>id10333</td>\n",
       "      <td>My wife &amp; I stayed in this glorious city a whi...</td>\n",
       "      <td>Google Chrome</td>\n",
       "      <td>Mobile</td>\n",
       "      <td>happy</td>\n",
       "      <td>['wife', 'stayed', 'glorious', 'city', 'back',...</td>\n",
       "      <td>['wife', 'stay', 'glorious', 'city', 'back', '...</td>\n",
       "    </tr>\n",
       "    <tr>\n",
       "      <th>8</th>\n",
       "      <td>id10334</td>\n",
       "      <td>My boyfriend and I stayed at the Fairmont on a...</td>\n",
       "      <td>Internet Explorer</td>\n",
       "      <td>Desktop</td>\n",
       "      <td>happy</td>\n",
       "      <td>['boyfriend', 'stayed', 'fairmont', 'recent', ...</td>\n",
       "      <td>['boyfriend', 'stay', 'fairmont', 'recent', 't...</td>\n",
       "    </tr>\n",
       "    <tr>\n",
       "      <th>9</th>\n",
       "      <td>id10335</td>\n",
       "      <td>Wonderful staff, great location, but it was de...</td>\n",
       "      <td>Chrome</td>\n",
       "      <td>Tablet</td>\n",
       "      <td>not happy</td>\n",
       "      <td>['wonderful', 'staff', 'great', 'location', 'd...</td>\n",
       "      <td>['wonderful', 'staff', 'great', 'location', 'd...</td>\n",
       "    </tr>\n",
       "    <tr>\n",
       "      <th>10</th>\n",
       "      <td>id10336</td>\n",
       "      <td>Steps off Times Square, nice rooms, stayed - n...</td>\n",
       "      <td>Internet Explorer</td>\n",
       "      <td>Tablet</td>\n",
       "      <td>happy</td>\n",
       "      <td>['steps', 'times', 'square', 'nice', 'rooms', ...</td>\n",
       "      <td>['step', 'time', 'square', 'nice', 'room', 'st...</td>\n",
       "    </tr>\n",
       "    <tr>\n",
       "      <th>11</th>\n",
       "      <td>id10337</td>\n",
       "      <td>Me, the Wife and - kids stayed here on Valenti...</td>\n",
       "      <td>IE</td>\n",
       "      <td>Mobile</td>\n",
       "      <td>happy</td>\n",
       "      <td>['wife', 'kids', 'stayed', 'valentine', 'weeke...</td>\n",
       "      <td>['wife', 'kid', 'stay', 'valentine', 'weekend'...</td>\n",
       "    </tr>\n",
       "    <tr>\n",
       "      <th>12</th>\n",
       "      <td>id10338</td>\n",
       "      <td>We stay at the Jolly Madison over the Xmas per...</td>\n",
       "      <td>Edge</td>\n",
       "      <td>Mobile</td>\n",
       "      <td>not happy</td>\n",
       "      <td>['stay', 'jolly', 'madison', 'xmas', 'period',...</td>\n",
       "      <td>['stay', 'jolly', 'madison', 'xmas', 'period',...</td>\n",
       "    </tr>\n",
       "    <tr>\n",
       "      <th>13</th>\n",
       "      <td>id10339</td>\n",
       "      <td>I highly recommend the Hawthorne Terrace as an...</td>\n",
       "      <td>Internet Explorer</td>\n",
       "      <td>Desktop</td>\n",
       "      <td>happy</td>\n",
       "      <td>['highly', 'recommend', 'hawthorne', 'terrace'...</td>\n",
       "      <td>['highly', 'recommend', 'hawthorne', 'terrace'...</td>\n",
       "    </tr>\n",
       "    <tr>\n",
       "      <th>14</th>\n",
       "      <td>id10340</td>\n",
       "      <td>I found the hotel clean and nicely located. Go...</td>\n",
       "      <td>Chrome</td>\n",
       "      <td>Desktop</td>\n",
       "      <td>happy</td>\n",
       "      <td>['found', 'hotel', 'clean', 'nicely', 'located...</td>\n",
       "      <td>['find', 'hotel', 'clean', 'nicely', 'locate',...</td>\n",
       "    </tr>\n",
       "    <tr>\n",
       "      <th>15</th>\n",
       "      <td>id10341</td>\n",
       "      <td>Stayed at the Elan from --th to --th October a...</td>\n",
       "      <td>Mozilla</td>\n",
       "      <td>Desktop</td>\n",
       "      <td>happy</td>\n",
       "      <td>['stayed', 'elan', 'th', 'th', 'october', 'lik...</td>\n",
       "      <td>['stay', 'elan', 'th', 'th', 'october', 'like'...</td>\n",
       "    </tr>\n",
       "    <tr>\n",
       "      <th>16</th>\n",
       "      <td>id10342</td>\n",
       "      <td>Priceline sent us to this hotel after acceptin...</td>\n",
       "      <td>Mozilla</td>\n",
       "      <td>Tablet</td>\n",
       "      <td>not happy</td>\n",
       "      <td>['priceline', 'sent', 'us', 'hotel', 'acceptin...</td>\n",
       "      <td>['priceline', 'send', 'u', 'hotel', 'accept', ...</td>\n",
       "    </tr>\n",
       "    <tr>\n",
       "      <th>17</th>\n",
       "      <td>id10343</td>\n",
       "      <td>Old and cheap furnitures,our chair was simply ...</td>\n",
       "      <td>Google Chrome</td>\n",
       "      <td>Desktop</td>\n",
       "      <td>not happy</td>\n",
       "      <td>['old', 'cheap', 'furnitures', 'chair', 'simpl...</td>\n",
       "      <td>['old', 'cheap', 'furniture', 'chair', 'simply...</td>\n",
       "    </tr>\n",
       "    <tr>\n",
       "      <th>18</th>\n",
       "      <td>id10344</td>\n",
       "      <td>We stayed here for - nights and were really ha...</td>\n",
       "      <td>Google Chrome</td>\n",
       "      <td>Mobile</td>\n",
       "      <td>happy</td>\n",
       "      <td>['stayed', 'nights', 'really', 'happy', 'locat...</td>\n",
       "      <td>['stay', 'night', 'really', 'happy', 'locate',...</td>\n",
       "    </tr>\n",
       "    <tr>\n",
       "      <th>19</th>\n",
       "      <td>id10345</td>\n",
       "      <td>The service was fine, but the hotel itself fel...</td>\n",
       "      <td>Mozilla</td>\n",
       "      <td>Desktop</td>\n",
       "      <td>not happy</td>\n",
       "      <td>['service', 'fine', 'hotel', 'fell', 'way', 'e...</td>\n",
       "      <td>['service', 'fine', 'hotel', 'fell', 'way', 'e...</td>\n",
       "    </tr>\n",
       "    <tr>\n",
       "      <th>20</th>\n",
       "      <td>id10346</td>\n",
       "      <td>Having stayed at many Hilton properties, I exp...</td>\n",
       "      <td>Firefox</td>\n",
       "      <td>Mobile</td>\n",
       "      <td>not happy</td>\n",
       "      <td>['stayed', 'many', 'hilton', 'properties', 'ex...</td>\n",
       "      <td>['stay', 'many', 'hilton', 'property', 'expect...</td>\n",
       "    </tr>\n",
       "    <tr>\n",
       "      <th>21</th>\n",
       "      <td>id10347</td>\n",
       "      <td>This is everything you could want from a hotel...</td>\n",
       "      <td>Firefox</td>\n",
       "      <td>Desktop</td>\n",
       "      <td>happy</td>\n",
       "      <td>['everything', 'could', 'want', 'hotel', 'conv...</td>\n",
       "      <td>['everything', 'could', 'want', 'hotel', 'conv...</td>\n",
       "    </tr>\n",
       "    <tr>\n",
       "      <th>22</th>\n",
       "      <td>id10348</td>\n",
       "      <td>I very much wanted to stay at a boutique hotel...</td>\n",
       "      <td>Edge</td>\n",
       "      <td>Tablet</td>\n",
       "      <td>not happy</td>\n",
       "      <td>['much', 'wanted', 'stay', 'boutique', 'hotel'...</td>\n",
       "      <td>['much', 'want', 'stay', 'boutique', 'hotel', ...</td>\n",
       "    </tr>\n",
       "    <tr>\n",
       "      <th>23</th>\n",
       "      <td>id10349</td>\n",
       "      <td>I really liked this hotel. The staff were wond...</td>\n",
       "      <td>Chrome</td>\n",
       "      <td>Desktop</td>\n",
       "      <td>happy</td>\n",
       "      <td>['really', 'liked', 'hotel', 'staff', 'wonderf...</td>\n",
       "      <td>['really', 'liked', 'hotel', 'staff', 'wonderf...</td>\n",
       "    </tr>\n",
       "    <tr>\n",
       "      <th>24</th>\n",
       "      <td>id10350</td>\n",
       "      <td>My wife and spent - days there this month as a...</td>\n",
       "      <td>Chrome</td>\n",
       "      <td>Desktop</td>\n",
       "      <td>happy</td>\n",
       "      <td>['wife', 'spent', 'days', 'month', 'new', 'yor...</td>\n",
       "      <td>['wife', 'spent', 'day', 'month', 'new', 'york...</td>\n",
       "    </tr>\n",
       "    <tr>\n",
       "      <th>25</th>\n",
       "      <td>id10351</td>\n",
       "      <td>We stayed at this hotel for two nights over th...</td>\n",
       "      <td>Opera</td>\n",
       "      <td>Mobile</td>\n",
       "      <td>not happy</td>\n",
       "      <td>['stayed', 'hotel', 'two', 'nights', 'busy', '...</td>\n",
       "      <td>['stayed', 'hotel', 'two', 'night', 'busy', 'l...</td>\n",
       "    </tr>\n",
       "    <tr>\n",
       "      <th>26</th>\n",
       "      <td>id10352</td>\n",
       "      <td>Took a girls trip to LA and had no idea where ...</td>\n",
       "      <td>InternetExplorer</td>\n",
       "      <td>Mobile</td>\n",
       "      <td>happy</td>\n",
       "      <td>['took', 'girls', 'trip', 'la', 'idea', 'stay'...</td>\n",
       "      <td>['take', 'girl', 'trip', 'la', 'idea', 'stay',...</td>\n",
       "    </tr>\n",
       "    <tr>\n",
       "      <th>27</th>\n",
       "      <td>id10353</td>\n",
       "      <td>Stayed with my girlfriend for a long weekend. ...</td>\n",
       "      <td>Mozilla Firefox</td>\n",
       "      <td>Desktop</td>\n",
       "      <td>happy</td>\n",
       "      <td>['stayed', 'girlfriend', 'long', 'weekend', 'g...</td>\n",
       "      <td>['stayed', 'girlfriend', 'long', 'weekend', 'g...</td>\n",
       "    </tr>\n",
       "    <tr>\n",
       "      <th>28</th>\n",
       "      <td>id10354</td>\n",
       "      <td>I have stayed here numerous times and never be...</td>\n",
       "      <td>Mozilla</td>\n",
       "      <td>Mobile</td>\n",
       "      <td>happy</td>\n",
       "      <td>['stayed', 'numerous', 'times', 'never', 'disa...</td>\n",
       "      <td>['stay', 'numerous', 'time', 'never', 'disappo...</td>\n",
       "    </tr>\n",
       "    <tr>\n",
       "      <th>29</th>\n",
       "      <td>id10355</td>\n",
       "      <td>The public areas are nice to look at. The staf...</td>\n",
       "      <td>Firefox</td>\n",
       "      <td>Tablet</td>\n",
       "      <td>not happy</td>\n",
       "      <td>['public', 'areas', 'nice', 'look', 'staff', '...</td>\n",
       "      <td>['public', 'area', 'nice', 'look', 'staff', 'r...</td>\n",
       "    </tr>\n",
       "    <tr>\n",
       "      <th>...</th>\n",
       "      <td>...</td>\n",
       "      <td>...</td>\n",
       "      <td>...</td>\n",
       "      <td>...</td>\n",
       "      <td>...</td>\n",
       "      <td>...</td>\n",
       "      <td>...</td>\n",
       "    </tr>\n",
       "    <tr>\n",
       "      <th>38902</th>\n",
       "      <td>id49228</td>\n",
       "      <td>After having stayed at the Waldorf many times,...</td>\n",
       "      <td>InternetExplorer</td>\n",
       "      <td>Mobile</td>\n",
       "      <td>happy</td>\n",
       "      <td>['stayed', 'waldorf', 'many', 'times', 'think'...</td>\n",
       "      <td>['stay', 'waldorf', 'many', 'time', 'think', '...</td>\n",
       "    </tr>\n",
       "    <tr>\n",
       "      <th>38903</th>\n",
       "      <td>id49229</td>\n",
       "      <td>This hotel is a great choice for those staying...</td>\n",
       "      <td>Mozilla</td>\n",
       "      <td>Mobile</td>\n",
       "      <td>happy</td>\n",
       "      <td>['hotel', 'great', 'choice', 'staying', 'manha...</td>\n",
       "      <td>['hotel', 'great', 'choice', 'stay', 'manhatta...</td>\n",
       "    </tr>\n",
       "    <tr>\n",
       "      <th>38904</th>\n",
       "      <td>id49230</td>\n",
       "      <td>Although New York is a large city, whenever I ...</td>\n",
       "      <td>Google Chrome</td>\n",
       "      <td>Tablet</td>\n",
       "      <td>happy</td>\n",
       "      <td>['although', 'new', 'york', 'large', 'city', '...</td>\n",
       "      <td>['although', 'new', 'york', 'large', 'city', '...</td>\n",
       "    </tr>\n",
       "    <tr>\n",
       "      <th>38905</th>\n",
       "      <td>id49231</td>\n",
       "      <td>I used to live in Austin, so when I moved away...</td>\n",
       "      <td>IE</td>\n",
       "      <td>Desktop</td>\n",
       "      <td>not happy</td>\n",
       "      <td>['used', 'live', 'austin', 'moved', 'away', 'c...</td>\n",
       "      <td>['use', 'live', 'austin', 'move', 'away', 'cou...</td>\n",
       "    </tr>\n",
       "    <tr>\n",
       "      <th>38906</th>\n",
       "      <td>id49232</td>\n",
       "      <td>I've stayed at the Hilton, Hyatt, Magnolia and...</td>\n",
       "      <td>InternetExplorer</td>\n",
       "      <td>Desktop</td>\n",
       "      <td>happy</td>\n",
       "      <td>['stayed', 'hilton', 'hyatt', 'magnolia', 'clu...</td>\n",
       "      <td>['stay', 'hilton', 'hyatt', 'magnolia', 'club'...</td>\n",
       "    </tr>\n",
       "    <tr>\n",
       "      <th>38907</th>\n",
       "      <td>id49233</td>\n",
       "      <td>Great Location,short walk from Amtrak station,...</td>\n",
       "      <td>Firefox</td>\n",
       "      <td>Mobile</td>\n",
       "      <td>happy</td>\n",
       "      <td>['great', 'location', 'short', 'walk', 'amtrak...</td>\n",
       "      <td>['great', 'location', 'short', 'walk', 'amtrak...</td>\n",
       "    </tr>\n",
       "    <tr>\n",
       "      <th>38908</th>\n",
       "      <td>id49234</td>\n",
       "      <td>When we booked this was a Renaissance Hotel bu...</td>\n",
       "      <td>Mozilla</td>\n",
       "      <td>Desktop</td>\n",
       "      <td>happy</td>\n",
       "      <td>['booked', 'renaissance', 'hotel', 'changed', ...</td>\n",
       "      <td>['book', 'renaissance', 'hotel', 'change', 'ha...</td>\n",
       "    </tr>\n",
       "    <tr>\n",
       "      <th>38909</th>\n",
       "      <td>id49235</td>\n",
       "      <td>Hotel is an old style Red Roof and has not bee...</td>\n",
       "      <td>Mozilla</td>\n",
       "      <td>Desktop</td>\n",
       "      <td>not happy</td>\n",
       "      <td>['hotel', 'old', 'style', 'red', 'roof', 'diff...</td>\n",
       "      <td>['hotel', 'old', 'style', 'red', 'roof', 'diff...</td>\n",
       "    </tr>\n",
       "    <tr>\n",
       "      <th>38910</th>\n",
       "      <td>id49236</td>\n",
       "      <td>I have to admit I tried rebooking since I was ...</td>\n",
       "      <td>Chrome</td>\n",
       "      <td>Desktop</td>\n",
       "      <td>happy</td>\n",
       "      <td>['admit', 'tried', 'rebooking', 'since', 'afra...</td>\n",
       "      <td>['admit', 'try', 'rebooking', 'since', 'afraid...</td>\n",
       "    </tr>\n",
       "    <tr>\n",
       "      <th>38911</th>\n",
       "      <td>id49237</td>\n",
       "      <td>Room was nice, everything seemed pretty new. R...</td>\n",
       "      <td>Internet Explorer</td>\n",
       "      <td>Mobile</td>\n",
       "      <td>happy</td>\n",
       "      <td>['room', 'nice', 'everything', 'seemed', 'pret...</td>\n",
       "      <td>['room', 'nice', 'everything', 'seem', 'pretty...</td>\n",
       "    </tr>\n",
       "    <tr>\n",
       "      <th>38912</th>\n",
       "      <td>id49238</td>\n",
       "      <td>then a great place to stay is this hotel. Not ...</td>\n",
       "      <td>Mozilla Firefox</td>\n",
       "      <td>Tablet</td>\n",
       "      <td>happy</td>\n",
       "      <td>['great', 'place', 'stay', 'hotel', 'big', 'im...</td>\n",
       "      <td>['great', 'place', 'stay', 'hotel', 'big', 'im...</td>\n",
       "    </tr>\n",
       "    <tr>\n",
       "      <th>38913</th>\n",
       "      <td>id49239</td>\n",
       "      <td>I will never ever stay at this Hotel again. I ...</td>\n",
       "      <td>Firefox</td>\n",
       "      <td>Desktop</td>\n",
       "      <td>not happy</td>\n",
       "      <td>['never', 'ever', 'stay', 'hotel', 'stayed', '...</td>\n",
       "      <td>['never', 'ever', 'stay', 'hotel', 'stayed', '...</td>\n",
       "    </tr>\n",
       "    <tr>\n",
       "      <th>38914</th>\n",
       "      <td>id49240</td>\n",
       "      <td>After being on a bus for -- hours and finally ...</td>\n",
       "      <td>Mozilla</td>\n",
       "      <td>Mobile</td>\n",
       "      <td>not happy</td>\n",
       "      <td>['bus', 'hours', 'finally', 'arriving', 'hotel...</td>\n",
       "      <td>['bus', 'hour', 'finally', 'arrive', 'hotel', ...</td>\n",
       "    </tr>\n",
       "    <tr>\n",
       "      <th>38915</th>\n",
       "      <td>id49241</td>\n",
       "      <td>pretty cool hotel. stayed for a few days in mi...</td>\n",
       "      <td>InternetExplorer</td>\n",
       "      <td>Tablet</td>\n",
       "      <td>happy</td>\n",
       "      <td>['pretty', 'cool', 'hotel', 'stayed', 'days', ...</td>\n",
       "      <td>['pretty', 'cool', 'hotel', 'stay', 'day', 'mi...</td>\n",
       "    </tr>\n",
       "    <tr>\n",
       "      <th>38916</th>\n",
       "      <td>id49242</td>\n",
       "      <td>We stopped over in LAX on the way to Canada an...</td>\n",
       "      <td>Google Chrome</td>\n",
       "      <td>Desktop</td>\n",
       "      <td>happy</td>\n",
       "      <td>['stopped', 'lax', 'way', 'canada', 'loved', '...</td>\n",
       "      <td>['stop', 'lax', 'way', 'canada', 'love', 'stay...</td>\n",
       "    </tr>\n",
       "    <tr>\n",
       "      <th>38917</th>\n",
       "      <td>id49243</td>\n",
       "      <td>I love this hotel and will stay again for seve...</td>\n",
       "      <td>Chrome</td>\n",
       "      <td>Tablet</td>\n",
       "      <td>happy</td>\n",
       "      <td>['love', 'hotel', 'stay', 'several', 'reasons'...</td>\n",
       "      <td>['love', 'hotel', 'stay', 'several', 'reason',...</td>\n",
       "    </tr>\n",
       "    <tr>\n",
       "      <th>38918</th>\n",
       "      <td>id49244</td>\n",
       "      <td>We were excited about our stay at the Blu Aqua...</td>\n",
       "      <td>Edge</td>\n",
       "      <td>Mobile</td>\n",
       "      <td>not happy</td>\n",
       "      <td>['excited', 'stay', 'blu', 'aqua', 'new', 'hot...</td>\n",
       "      <td>['excite', 'stay', 'blu', 'aqua', 'new', 'hote...</td>\n",
       "    </tr>\n",
       "    <tr>\n",
       "      <th>38919</th>\n",
       "      <td>id49245</td>\n",
       "      <td>I didn't get to see much of Seattle but the ho...</td>\n",
       "      <td>Internet Explorer</td>\n",
       "      <td>Desktop</td>\n",
       "      <td>happy</td>\n",
       "      <td>['get', 'see', 'much', 'seattle', 'hotel', 'go...</td>\n",
       "      <td>['get', 'see', 'much', 'seattle', 'hotel', 'go...</td>\n",
       "    </tr>\n",
       "    <tr>\n",
       "      <th>38920</th>\n",
       "      <td>id49246</td>\n",
       "      <td>My husband and I stayed one night at the Heart...</td>\n",
       "      <td>InternetExplorer</td>\n",
       "      <td>Tablet</td>\n",
       "      <td>happy</td>\n",
       "      <td>['husband', 'stayed', 'one', 'night', 'heartbr...</td>\n",
       "      <td>['husband', 'stay', 'one', 'night', 'heartbrea...</td>\n",
       "    </tr>\n",
       "    <tr>\n",
       "      <th>38921</th>\n",
       "      <td>id49247</td>\n",
       "      <td>We staed at the Handlery Hotel to Visit San Di...</td>\n",
       "      <td>Edge</td>\n",
       "      <td>Desktop</td>\n",
       "      <td>happy</td>\n",
       "      <td>['staed', 'handlery', 'hotel', 'visit', 'san',...</td>\n",
       "      <td>['staed', 'handlery', 'hotel', 'visit', 'san',...</td>\n",
       "    </tr>\n",
       "    <tr>\n",
       "      <th>38922</th>\n",
       "      <td>id49248</td>\n",
       "      <td>This hotel has a great location if you want to...</td>\n",
       "      <td>Edge</td>\n",
       "      <td>Desktop</td>\n",
       "      <td>not happy</td>\n",
       "      <td>['hotel', 'great', 'location', 'want', 'right'...</td>\n",
       "      <td>['hotel', 'great', 'location', 'want', 'right'...</td>\n",
       "    </tr>\n",
       "    <tr>\n",
       "      <th>38923</th>\n",
       "      <td>id49249</td>\n",
       "      <td>I am pretty impartial to this hotel. I would d...</td>\n",
       "      <td>Edge</td>\n",
       "      <td>Mobile</td>\n",
       "      <td>not happy</td>\n",
       "      <td>['pretty', 'impartial', 'hotel', 'would', 'def...</td>\n",
       "      <td>['pretty', 'impartial', 'hotel', 'would', 'def...</td>\n",
       "    </tr>\n",
       "    <tr>\n",
       "      <th>38924</th>\n",
       "      <td>id49250</td>\n",
       "      <td>We booked a room with two single beds. Upon ar...</td>\n",
       "      <td>Internet Explorer</td>\n",
       "      <td>Desktop</td>\n",
       "      <td>happy</td>\n",
       "      <td>['booked', 'room', 'two', 'single', 'beds', 'u...</td>\n",
       "      <td>['book', 'room', 'two', 'single', 'bed', 'upon...</td>\n",
       "    </tr>\n",
       "    <tr>\n",
       "      <th>38925</th>\n",
       "      <td>id49251</td>\n",
       "      <td>Arrived via taxi from La Guardia - driving int...</td>\n",
       "      <td>Mozilla</td>\n",
       "      <td>Mobile</td>\n",
       "      <td>happy</td>\n",
       "      <td>['arrived', 'via', 'taxi', 'la', 'guardia', 'd...</td>\n",
       "      <td>['arrive', 'via', 'taxi', 'la', 'guardia', 'dr...</td>\n",
       "    </tr>\n",
       "    <tr>\n",
       "      <th>38926</th>\n",
       "      <td>id49252</td>\n",
       "      <td>I tend to post reviews only when I’ve had an e...</td>\n",
       "      <td>Firefox</td>\n",
       "      <td>Desktop</td>\n",
       "      <td>not happy</td>\n",
       "      <td>['tend', 'post', 'reviews', 'exceptionally', '...</td>\n",
       "      <td>['tend', 'post', 'review', 'exceptionally', 'e...</td>\n",
       "    </tr>\n",
       "    <tr>\n",
       "      <th>38927</th>\n",
       "      <td>id49253</td>\n",
       "      <td>We arrived late at night and walked in to a ch...</td>\n",
       "      <td>Edge</td>\n",
       "      <td>Desktop</td>\n",
       "      <td>happy</td>\n",
       "      <td>['arrived', 'late', 'night', 'walked', 'check'...</td>\n",
       "      <td>['arrive', 'late', 'night', 'walk', 'check', '...</td>\n",
       "    </tr>\n",
       "    <tr>\n",
       "      <th>38928</th>\n",
       "      <td>id49254</td>\n",
       "      <td>The only positive impression is location and p...</td>\n",
       "      <td>InternetExplorer</td>\n",
       "      <td>Mobile</td>\n",
       "      <td>not happy</td>\n",
       "      <td>['positive', 'impression', 'location', 'public...</td>\n",
       "      <td>['positive', 'impression', 'location', 'public...</td>\n",
       "    </tr>\n",
       "    <tr>\n",
       "      <th>38929</th>\n",
       "      <td>id49255</td>\n",
       "      <td>Traveling with friends for shopping and a show...</td>\n",
       "      <td>Firefox</td>\n",
       "      <td>Mobile</td>\n",
       "      <td>not happy</td>\n",
       "      <td>['traveling', 'friends', 'shopping', 'show', '...</td>\n",
       "      <td>['travel', 'friend', 'shop', 'show', 'location...</td>\n",
       "    </tr>\n",
       "    <tr>\n",
       "      <th>38930</th>\n",
       "      <td>id49256</td>\n",
       "      <td>The experience was just ok. We paid extra for ...</td>\n",
       "      <td>Chrome</td>\n",
       "      <td>Desktop</td>\n",
       "      <td>not happy</td>\n",
       "      <td>['experience', 'ok', 'paid', 'extra', 'view', ...</td>\n",
       "      <td>['experience', 'ok', 'pay', 'extra', 'view', '...</td>\n",
       "    </tr>\n",
       "    <tr>\n",
       "      <th>38931</th>\n",
       "      <td>id49257</td>\n",
       "      <td>The Westin is a wonderfully restored grande da...</td>\n",
       "      <td>Mozilla</td>\n",
       "      <td>Desktop</td>\n",
       "      <td>happy</td>\n",
       "      <td>['westin', 'wonderfully', 'restored', 'grande'...</td>\n",
       "      <td>['westin', 'wonderfully', 'restore', 'grande',...</td>\n",
       "    </tr>\n",
       "  </tbody>\n",
       "</table>\n",
       "<p>38932 rows × 7 columns</p>\n",
       "</div>"
      ],
      "text/plain": [
       "       User_ID                                        Description  \\\n",
       "0      id10326  The room was kind of clean but had a VERY stro...   \n",
       "1      id10327  I stayed at the Crown Plaza April -- - April -...   \n",
       "2      id10328  I booked this hotel through Hotwire at the low...   \n",
       "3      id10329  Stayed here with husband and sons on the way t...   \n",
       "4      id10330  My girlfriends and I stayed here to celebrate ...   \n",
       "5      id10331  We had - rooms. One was very nice and clearly ...   \n",
       "6      id10332  My husband and I have stayed in this hotel a f...   \n",
       "7      id10333  My wife & I stayed in this glorious city a whi...   \n",
       "8      id10334  My boyfriend and I stayed at the Fairmont on a...   \n",
       "9      id10335  Wonderful staff, great location, but it was de...   \n",
       "10     id10336  Steps off Times Square, nice rooms, stayed - n...   \n",
       "11     id10337  Me, the Wife and - kids stayed here on Valenti...   \n",
       "12     id10338  We stay at the Jolly Madison over the Xmas per...   \n",
       "13     id10339  I highly recommend the Hawthorne Terrace as an...   \n",
       "14     id10340  I found the hotel clean and nicely located. Go...   \n",
       "15     id10341  Stayed at the Elan from --th to --th October a...   \n",
       "16     id10342  Priceline sent us to this hotel after acceptin...   \n",
       "17     id10343  Old and cheap furnitures,our chair was simply ...   \n",
       "18     id10344  We stayed here for - nights and were really ha...   \n",
       "19     id10345  The service was fine, but the hotel itself fel...   \n",
       "20     id10346  Having stayed at many Hilton properties, I exp...   \n",
       "21     id10347  This is everything you could want from a hotel...   \n",
       "22     id10348  I very much wanted to stay at a boutique hotel...   \n",
       "23     id10349  I really liked this hotel. The staff were wond...   \n",
       "24     id10350  My wife and spent - days there this month as a...   \n",
       "25     id10351  We stayed at this hotel for two nights over th...   \n",
       "26     id10352  Took a girls trip to LA and had no idea where ...   \n",
       "27     id10353  Stayed with my girlfriend for a long weekend. ...   \n",
       "28     id10354  I have stayed here numerous times and never be...   \n",
       "29     id10355  The public areas are nice to look at. The staf...   \n",
       "...        ...                                                ...   \n",
       "38902  id49228  After having stayed at the Waldorf many times,...   \n",
       "38903  id49229  This hotel is a great choice for those staying...   \n",
       "38904  id49230  Although New York is a large city, whenever I ...   \n",
       "38905  id49231  I used to live in Austin, so when I moved away...   \n",
       "38906  id49232  I've stayed at the Hilton, Hyatt, Magnolia and...   \n",
       "38907  id49233  Great Location,short walk from Amtrak station,...   \n",
       "38908  id49234  When we booked this was a Renaissance Hotel bu...   \n",
       "38909  id49235  Hotel is an old style Red Roof and has not bee...   \n",
       "38910  id49236  I have to admit I tried rebooking since I was ...   \n",
       "38911  id49237  Room was nice, everything seemed pretty new. R...   \n",
       "38912  id49238  then a great place to stay is this hotel. Not ...   \n",
       "38913  id49239  I will never ever stay at this Hotel again. I ...   \n",
       "38914  id49240  After being on a bus for -- hours and finally ...   \n",
       "38915  id49241  pretty cool hotel. stayed for a few days in mi...   \n",
       "38916  id49242  We stopped over in LAX on the way to Canada an...   \n",
       "38917  id49243  I love this hotel and will stay again for seve...   \n",
       "38918  id49244  We were excited about our stay at the Blu Aqua...   \n",
       "38919  id49245  I didn't get to see much of Seattle but the ho...   \n",
       "38920  id49246  My husband and I stayed one night at the Heart...   \n",
       "38921  id49247  We staed at the Handlery Hotel to Visit San Di...   \n",
       "38922  id49248  This hotel has a great location if you want to...   \n",
       "38923  id49249  I am pretty impartial to this hotel. I would d...   \n",
       "38924  id49250  We booked a room with two single beds. Upon ar...   \n",
       "38925  id49251  Arrived via taxi from La Guardia - driving int...   \n",
       "38926  id49252  I tend to post reviews only when I’ve had an e...   \n",
       "38927  id49253  We arrived late at night and walked in to a ch...   \n",
       "38928  id49254  The only positive impression is location and p...   \n",
       "38929  id49255  Traveling with friends for shopping and a show...   \n",
       "38930  id49256  The experience was just ok. We paid extra for ...   \n",
       "38931  id49257  The Westin is a wonderfully restored grande da...   \n",
       "\n",
       "            Browser_Used Device_Used Is_Response  \\\n",
       "0                   Edge      Mobile   not happy   \n",
       "1      Internet Explorer      Mobile   not happy   \n",
       "2                Mozilla      Tablet   not happy   \n",
       "3       InternetExplorer     Desktop       happy   \n",
       "4                   Edge      Tablet   not happy   \n",
       "5       InternetExplorer     Desktop       happy   \n",
       "6                Firefox      Tablet   not happy   \n",
       "7          Google Chrome      Mobile       happy   \n",
       "8      Internet Explorer     Desktop       happy   \n",
       "9                 Chrome      Tablet   not happy   \n",
       "10     Internet Explorer      Tablet       happy   \n",
       "11                    IE      Mobile       happy   \n",
       "12                  Edge      Mobile   not happy   \n",
       "13     Internet Explorer     Desktop       happy   \n",
       "14                Chrome     Desktop       happy   \n",
       "15               Mozilla     Desktop       happy   \n",
       "16               Mozilla      Tablet   not happy   \n",
       "17         Google Chrome     Desktop   not happy   \n",
       "18         Google Chrome      Mobile       happy   \n",
       "19               Mozilla     Desktop   not happy   \n",
       "20               Firefox      Mobile   not happy   \n",
       "21               Firefox     Desktop       happy   \n",
       "22                  Edge      Tablet   not happy   \n",
       "23                Chrome     Desktop       happy   \n",
       "24                Chrome     Desktop       happy   \n",
       "25                 Opera      Mobile   not happy   \n",
       "26      InternetExplorer      Mobile       happy   \n",
       "27       Mozilla Firefox     Desktop       happy   \n",
       "28               Mozilla      Mobile       happy   \n",
       "29               Firefox      Tablet   not happy   \n",
       "...                  ...         ...         ...   \n",
       "38902   InternetExplorer      Mobile       happy   \n",
       "38903            Mozilla      Mobile       happy   \n",
       "38904      Google Chrome      Tablet       happy   \n",
       "38905                 IE     Desktop   not happy   \n",
       "38906   InternetExplorer     Desktop       happy   \n",
       "38907            Firefox      Mobile       happy   \n",
       "38908            Mozilla     Desktop       happy   \n",
       "38909            Mozilla     Desktop   not happy   \n",
       "38910             Chrome     Desktop       happy   \n",
       "38911  Internet Explorer      Mobile       happy   \n",
       "38912    Mozilla Firefox      Tablet       happy   \n",
       "38913            Firefox     Desktop   not happy   \n",
       "38914            Mozilla      Mobile   not happy   \n",
       "38915   InternetExplorer      Tablet       happy   \n",
       "38916      Google Chrome     Desktop       happy   \n",
       "38917             Chrome      Tablet       happy   \n",
       "38918               Edge      Mobile   not happy   \n",
       "38919  Internet Explorer     Desktop       happy   \n",
       "38920   InternetExplorer      Tablet       happy   \n",
       "38921               Edge     Desktop       happy   \n",
       "38922               Edge     Desktop   not happy   \n",
       "38923               Edge      Mobile   not happy   \n",
       "38924  Internet Explorer     Desktop       happy   \n",
       "38925            Mozilla      Mobile       happy   \n",
       "38926            Firefox     Desktop   not happy   \n",
       "38927               Edge     Desktop       happy   \n",
       "38928   InternetExplorer      Mobile   not happy   \n",
       "38929            Firefox      Mobile   not happy   \n",
       "38930             Chrome     Desktop   not happy   \n",
       "38931            Mozilla     Desktop       happy   \n",
       "\n",
       "                                             Replacement  \\\n",
       "0      ['room', 'kind', 'clean', 'strong', 'smell', '...   \n",
       "1      ['stayed', 'crown', 'plaza', 'april', 'april',...   \n",
       "2      ['booked', 'hotel', 'hotwire', 'lowest', 'pric...   \n",
       "3      ['stayed', 'husband', 'sons', 'way', 'alaska',...   \n",
       "4      ['girlfriends', 'stayed', 'celebrate', 'th', '...   \n",
       "5      ['rooms', 'one', 'nice', 'clearly', 'updated',...   \n",
       "6      ['husband', 'stayed', 'hotel', 'times', 'thoug...   \n",
       "7      ['wife', 'stayed', 'glorious', 'city', 'back',...   \n",
       "8      ['boyfriend', 'stayed', 'fairmont', 'recent', ...   \n",
       "9      ['wonderful', 'staff', 'great', 'location', 'd...   \n",
       "10     ['steps', 'times', 'square', 'nice', 'rooms', ...   \n",
       "11     ['wife', 'kids', 'stayed', 'valentine', 'weeke...   \n",
       "12     ['stay', 'jolly', 'madison', 'xmas', 'period',...   \n",
       "13     ['highly', 'recommend', 'hawthorne', 'terrace'...   \n",
       "14     ['found', 'hotel', 'clean', 'nicely', 'located...   \n",
       "15     ['stayed', 'elan', 'th', 'th', 'october', 'lik...   \n",
       "16     ['priceline', 'sent', 'us', 'hotel', 'acceptin...   \n",
       "17     ['old', 'cheap', 'furnitures', 'chair', 'simpl...   \n",
       "18     ['stayed', 'nights', 'really', 'happy', 'locat...   \n",
       "19     ['service', 'fine', 'hotel', 'fell', 'way', 'e...   \n",
       "20     ['stayed', 'many', 'hilton', 'properties', 'ex...   \n",
       "21     ['everything', 'could', 'want', 'hotel', 'conv...   \n",
       "22     ['much', 'wanted', 'stay', 'boutique', 'hotel'...   \n",
       "23     ['really', 'liked', 'hotel', 'staff', 'wonderf...   \n",
       "24     ['wife', 'spent', 'days', 'month', 'new', 'yor...   \n",
       "25     ['stayed', 'hotel', 'two', 'nights', 'busy', '...   \n",
       "26     ['took', 'girls', 'trip', 'la', 'idea', 'stay'...   \n",
       "27     ['stayed', 'girlfriend', 'long', 'weekend', 'g...   \n",
       "28     ['stayed', 'numerous', 'times', 'never', 'disa...   \n",
       "29     ['public', 'areas', 'nice', 'look', 'staff', '...   \n",
       "...                                                  ...   \n",
       "38902  ['stayed', 'waldorf', 'many', 'times', 'think'...   \n",
       "38903  ['hotel', 'great', 'choice', 'staying', 'manha...   \n",
       "38904  ['although', 'new', 'york', 'large', 'city', '...   \n",
       "38905  ['used', 'live', 'austin', 'moved', 'away', 'c...   \n",
       "38906  ['stayed', 'hilton', 'hyatt', 'magnolia', 'clu...   \n",
       "38907  ['great', 'location', 'short', 'walk', 'amtrak...   \n",
       "38908  ['booked', 'renaissance', 'hotel', 'changed', ...   \n",
       "38909  ['hotel', 'old', 'style', 'red', 'roof', 'diff...   \n",
       "38910  ['admit', 'tried', 'rebooking', 'since', 'afra...   \n",
       "38911  ['room', 'nice', 'everything', 'seemed', 'pret...   \n",
       "38912  ['great', 'place', 'stay', 'hotel', 'big', 'im...   \n",
       "38913  ['never', 'ever', 'stay', 'hotel', 'stayed', '...   \n",
       "38914  ['bus', 'hours', 'finally', 'arriving', 'hotel...   \n",
       "38915  ['pretty', 'cool', 'hotel', 'stayed', 'days', ...   \n",
       "38916  ['stopped', 'lax', 'way', 'canada', 'loved', '...   \n",
       "38917  ['love', 'hotel', 'stay', 'several', 'reasons'...   \n",
       "38918  ['excited', 'stay', 'blu', 'aqua', 'new', 'hot...   \n",
       "38919  ['get', 'see', 'much', 'seattle', 'hotel', 'go...   \n",
       "38920  ['husband', 'stayed', 'one', 'night', 'heartbr...   \n",
       "38921  ['staed', 'handlery', 'hotel', 'visit', 'san',...   \n",
       "38922  ['hotel', 'great', 'location', 'want', 'right'...   \n",
       "38923  ['pretty', 'impartial', 'hotel', 'would', 'def...   \n",
       "38924  ['booked', 'room', 'two', 'single', 'beds', 'u...   \n",
       "38925  ['arrived', 'via', 'taxi', 'la', 'guardia', 'd...   \n",
       "38926  ['tend', 'post', 'reviews', 'exceptionally', '...   \n",
       "38927  ['arrived', 'late', 'night', 'walked', 'check'...   \n",
       "38928  ['positive', 'impression', 'location', 'public...   \n",
       "38929  ['traveling', 'friends', 'shopping', 'show', '...   \n",
       "38930  ['experience', 'ok', 'paid', 'extra', 'view', ...   \n",
       "38931  ['westin', 'wonderfully', 'restored', 'grande'...   \n",
       "\n",
       "                                           Lemmatization  \n",
       "0      ['room', 'kind', 'clean', 'strong', 'smell', '...  \n",
       "1      ['stay', 'crown', 'plaza', 'april', 'april', '...  \n",
       "2      ['booked', 'hotel', 'hotwire', 'low', 'price',...  \n",
       "3      ['stayed', 'husband', 'son', 'way', 'alaska', ...  \n",
       "4      ['girlfriend', 'stay', 'celebrate', 'th', 'bir...  \n",
       "5      ['room', 'one', 'nice', 'clearly', 'update', '...  \n",
       "6      ['husband', 'stay', 'hotel', 'time', 'though',...  \n",
       "7      ['wife', 'stay', 'glorious', 'city', 'back', '...  \n",
       "8      ['boyfriend', 'stay', 'fairmont', 'recent', 't...  \n",
       "9      ['wonderful', 'staff', 'great', 'location', 'd...  \n",
       "10     ['step', 'time', 'square', 'nice', 'room', 'st...  \n",
       "11     ['wife', 'kid', 'stay', 'valentine', 'weekend'...  \n",
       "12     ['stay', 'jolly', 'madison', 'xmas', 'period',...  \n",
       "13     ['highly', 'recommend', 'hawthorne', 'terrace'...  \n",
       "14     ['find', 'hotel', 'clean', 'nicely', 'locate',...  \n",
       "15     ['stay', 'elan', 'th', 'th', 'october', 'like'...  \n",
       "16     ['priceline', 'send', 'u', 'hotel', 'accept', ...  \n",
       "17     ['old', 'cheap', 'furniture', 'chair', 'simply...  \n",
       "18     ['stay', 'night', 'really', 'happy', 'locate',...  \n",
       "19     ['service', 'fine', 'hotel', 'fell', 'way', 'e...  \n",
       "20     ['stay', 'many', 'hilton', 'property', 'expect...  \n",
       "21     ['everything', 'could', 'want', 'hotel', 'conv...  \n",
       "22     ['much', 'want', 'stay', 'boutique', 'hotel', ...  \n",
       "23     ['really', 'liked', 'hotel', 'staff', 'wonderf...  \n",
       "24     ['wife', 'spent', 'day', 'month', 'new', 'york...  \n",
       "25     ['stayed', 'hotel', 'two', 'night', 'busy', 'l...  \n",
       "26     ['take', 'girl', 'trip', 'la', 'idea', 'stay',...  \n",
       "27     ['stayed', 'girlfriend', 'long', 'weekend', 'g...  \n",
       "28     ['stay', 'numerous', 'time', 'never', 'disappo...  \n",
       "29     ['public', 'area', 'nice', 'look', 'staff', 'r...  \n",
       "...                                                  ...  \n",
       "38902  ['stay', 'waldorf', 'many', 'time', 'think', '...  \n",
       "38903  ['hotel', 'great', 'choice', 'stay', 'manhatta...  \n",
       "38904  ['although', 'new', 'york', 'large', 'city', '...  \n",
       "38905  ['use', 'live', 'austin', 'move', 'away', 'cou...  \n",
       "38906  ['stay', 'hilton', 'hyatt', 'magnolia', 'club'...  \n",
       "38907  ['great', 'location', 'short', 'walk', 'amtrak...  \n",
       "38908  ['book', 'renaissance', 'hotel', 'change', 'ha...  \n",
       "38909  ['hotel', 'old', 'style', 'red', 'roof', 'diff...  \n",
       "38910  ['admit', 'try', 'rebooking', 'since', 'afraid...  \n",
       "38911  ['room', 'nice', 'everything', 'seem', 'pretty...  \n",
       "38912  ['great', 'place', 'stay', 'hotel', 'big', 'im...  \n",
       "38913  ['never', 'ever', 'stay', 'hotel', 'stayed', '...  \n",
       "38914  ['bus', 'hour', 'finally', 'arrive', 'hotel', ...  \n",
       "38915  ['pretty', 'cool', 'hotel', 'stay', 'day', 'mi...  \n",
       "38916  ['stop', 'lax', 'way', 'canada', 'love', 'stay...  \n",
       "38917  ['love', 'hotel', 'stay', 'several', 'reason',...  \n",
       "38918  ['excite', 'stay', 'blu', 'aqua', 'new', 'hote...  \n",
       "38919  ['get', 'see', 'much', 'seattle', 'hotel', 'go...  \n",
       "38920  ['husband', 'stay', 'one', 'night', 'heartbrea...  \n",
       "38921  ['staed', 'handlery', 'hotel', 'visit', 'san',...  \n",
       "38922  ['hotel', 'great', 'location', 'want', 'right'...  \n",
       "38923  ['pretty', 'impartial', 'hotel', 'would', 'def...  \n",
       "38924  ['book', 'room', 'two', 'single', 'bed', 'upon...  \n",
       "38925  ['arrive', 'via', 'taxi', 'la', 'guardia', 'dr...  \n",
       "38926  ['tend', 'post', 'review', 'exceptionally', 'e...  \n",
       "38927  ['arrive', 'late', 'night', 'walk', 'check', '...  \n",
       "38928  ['positive', 'impression', 'location', 'public...  \n",
       "38929  ['travel', 'friend', 'shop', 'show', 'location...  \n",
       "38930  ['experience', 'ok', 'pay', 'extra', 'view', '...  \n",
       "38931  ['westin', 'wonderfully', 'restore', 'grande',...  \n",
       "\n",
       "[38932 rows x 7 columns]"
      ]
     },
     "execution_count": 6,
     "metadata": {},
     "output_type": "execute_result"
    }
   ],
   "source": [
    "df = pd.read_csv('Script2data.csv')\n",
    "df['Lemmatization'][2]\n",
    "df"
   ]
  },
  {
   "cell_type": "markdown",
   "metadata": {},
   "source": [
    "# Statistical Modeling "
   ]
  },
  {
   "cell_type": "code",
   "execution_count": 8,
   "metadata": {
    "collapsed": true
   },
   "outputs": [],
   "source": [
    "from sklearn.feature_extraction.text import TfidfVectorizer\n",
    "from sklearn.model_selection import train_test_split\n",
    "from sklearn.decomposition import TruncatedSVD\n",
    "from sklearn.pipeline import make_pipeline\n",
    "from sklearn.preprocessing import Normalizer,LabelEncoder\n",
    "from sklearn.metrics import accuracy_score,classification_report"
   ]
  },
  {
   "cell_type": "code",
   "execution_count": 9,
   "metadata": {},
   "outputs": [],
   "source": [
    "X = df.iloc[: ,[0,1,6]]\n",
    "y = df.iloc[:,4]\n",
    "lab_y = LabelEncoder()\n",
    "y = lab_y.fit_transform(y)"
   ]
  },
  {
   "cell_type": "code",
   "execution_count": 10,
   "metadata": {
    "collapsed": true
   },
   "outputs": [],
   "source": [
    "X_train,X_text,y_train,y_text = train_test_split(X,y,test_size = 0.1)"
   ]
  },
  {
   "cell_type": "code",
   "execution_count": 11,
   "metadata": {
    "collapsed": true
   },
   "outputs": [],
   "source": [
    "vect = TfidfVectorizer(max_df=1.0, max_features=15000, min_df=0.02, use_idf=True , ngram_range=(1,3))"
   ]
  },
  {
   "cell_type": "code",
   "execution_count": 7,
   "metadata": {
    "collapsed": true
   },
   "outputs": [],
   "source": [
    "#svd = TruncatedSVD(200,n_iter=7, random_state=42)\n",
    "#lsa = make_pipeline(vect,svd, Normalizer(copy=False))"
   ]
  },
  {
   "cell_type": "markdown",
   "metadata": {},
   "source": [
    "# For test data"
   ]
  },
  {
   "cell_type": "code",
   "execution_count": 21,
   "metadata": {},
   "outputs": [],
   "source": [
    "df_test = pd.read_csv('Script2test.csv')\n",
    "Xt = df_test.iloc[: ,[0,1,5]]"
   ]
  },
  {
   "cell_type": "markdown",
   "metadata": {},
   "source": [
    "# Xg boost"
   ]
  },
  {
   "cell_type": "code",
   "execution_count": 43,
   "metadata": {
    "collapsed": true
   },
   "outputs": [],
   "source": [
    "from xgboost.sklearn import XGBClassifier\n",
    "model = XGBClassifier(nthread=4,n_estimators=1000)"
   ]
  },
  {
   "cell_type": "markdown",
   "metadata": {},
   "source": [
    "# Navie Bayes"
   ]
  },
  {
   "cell_type": "code",
   "execution_count": 108,
   "metadata": {
    "collapsed": true
   },
   "outputs": [],
   "source": [
    "from sklearn.naive_bayes import GaussianNB,MultinomialNB\n",
    "model = GaussianNB()"
   ]
  },
  {
   "cell_type": "markdown",
   "metadata": {},
   "source": [
    "# ExtraTree Classifier"
   ]
  },
  {
   "cell_type": "code",
   "execution_count": 12,
   "metadata": {
    "collapsed": true
   },
   "outputs": [],
   "source": [
    "from sklearn.ensemble import ExtraTreesClassifier,RandomForestClassifier\n",
    "model = RandomForestClassifier(n_estimators=600,n_jobs=-1)"
   ]
  },
  {
   "cell_type": "markdown",
   "metadata": {},
   "source": [
    "# SVM Classifier\n"
   ]
  },
  {
   "cell_type": "code",
   "execution_count": 139,
   "metadata": {
    "collapsed": true
   },
   "outputs": [],
   "source": [
    "from sklearn.svm import SVC\n",
    "model = SVC()"
   ]
  },
  {
   "cell_type": "markdown",
   "metadata": {},
   "source": [
    "# Logistic Regression "
   ]
  },
  {
   "cell_type": "code",
   "execution_count": 8,
   "metadata": {
    "collapsed": true
   },
   "outputs": [],
   "source": [
    "from sklearn.linear_model import LinearRegression,SGDClassifier,LogisticRegression\n",
    "model = LogisticRegression()"
   ]
  },
  {
   "cell_type": "markdown",
   "metadata": {},
   "source": [
    "# Model Fitting"
   ]
  },
  {
   "cell_type": "code",
   "execution_count": 13,
   "metadata": {
    "collapsed": true
   },
   "outputs": [],
   "source": [
    "clf = make_pipeline(vect,model)"
   ]
  },
  {
   "cell_type": "code",
   "execution_count": 15,
   "metadata": {},
   "outputs": [
    {
     "data": {
      "text/plain": [
       "Pipeline(steps=[('tfidfvectorizer', TfidfVectorizer(analyzer='word', binary=False, decode_error='strict',\n",
       "        dtype=<class 'numpy.int64'>, encoding='utf-8', input='content',\n",
       "        lowercase=True, max_df=1.0, max_features=15000, min_df=0.02,\n",
       "        ngram_range=(1, 3), norm='l2', preprocessor=None, smoo...ators=600, n_jobs=-1, oob_score=False,\n",
       "            random_state=None, verbose=0, warm_start=False))])"
      ]
     },
     "execution_count": 15,
     "metadata": {},
     "output_type": "execute_result"
    }
   ],
   "source": [
    "clf.fit(X_train['Lemmatization'],y_train)"
   ]
  },
  {
   "cell_type": "code",
   "execution_count": null,
   "metadata": {
    "collapsed": true
   },
   "outputs": [],
   "source": [
    "y_pred = clf.predict(Xt['Lemmatization'])"
   ]
  },
  {
   "cell_type": "code",
   "execution_count": 17,
   "metadata": {},
   "outputs": [
    {
     "data": {
      "text/plain": [
       "array([0, 0, 0, ..., 0, 0, 0])"
      ]
     },
     "execution_count": 17,
     "metadata": {},
     "output_type": "execute_result"
    }
   ],
   "source": [
    "y_pred"
   ]
  },
  {
   "cell_type": "code",
   "execution_count": 18,
   "metadata": {},
   "outputs": [
    {
     "data": {
      "text/plain": [
       "0.8341037493579867"
      ]
     },
     "execution_count": 18,
     "metadata": {},
     "output_type": "execute_result"
    }
   ],
   "source": [
    "accuracy_score(y_text,y_pred)"
   ]
  },
  {
   "cell_type": "code",
   "execution_count": 29,
   "metadata": {},
   "outputs": [
    {
     "name": "stderr",
     "output_type": "stream",
     "text": [
      "/Users/coddict/anaconda/lib/python3.6/site-packages/ipykernel_launcher.py:1: SettingWithCopyWarning: \n",
      "A value is trying to be set on a copy of a slice from a DataFrame.\n",
      "Try using .loc[row_indexer,col_indexer] = value instead\n",
      "\n",
      "See the caveats in the documentation: http://pandas.pydata.org/pandas-docs/stable/indexing.html#indexing-view-versus-copy\n",
      "  \"\"\"Entry point for launching an IPython kernel.\n"
     ]
    }
   ],
   "source": [
    "Xt['Output'] = y_pred"
   ]
  },
  {
   "cell_type": "code",
   "execution_count": 30,
   "metadata": {
    "collapsed": true
   },
   "outputs": [],
   "source": [
    "def rep(val):\n",
    "    if val == 1 :\n",
    "        return \"not happy\"\n",
    "    else :\n",
    "        return \"happy\""
   ]
  },
  {
   "cell_type": "code",
   "execution_count": 31,
   "metadata": {},
   "outputs": [
    {
     "name": "stderr",
     "output_type": "stream",
     "text": [
      "/Users/coddict/anaconda/lib/python3.6/site-packages/ipykernel_launcher.py:1: SettingWithCopyWarning: \n",
      "A value is trying to be set on a copy of a slice from a DataFrame.\n",
      "Try using .loc[row_indexer,col_indexer] = value instead\n",
      "\n",
      "See the caveats in the documentation: http://pandas.pydata.org/pandas-docs/stable/indexing.html#indexing-view-versus-copy\n",
      "  \"\"\"Entry point for launching an IPython kernel.\n"
     ]
    }
   ],
   "source": [
    "Xt['Is_Response'] = Xt['Output'].apply(rep)"
   ]
  },
  {
   "cell_type": "code",
   "execution_count": 32,
   "metadata": {
    "collapsed": true
   },
   "outputs": [],
   "source": [
    "sub = Xt.iloc[:,[0,4]]"
   ]
  },
  {
   "cell_type": "code",
   "execution_count": 33,
   "metadata": {
    "collapsed": true
   },
   "outputs": [],
   "source": [
    "sub.to_csv('Submission.csv',index=False)"
   ]
  },
  {
   "cell_type": "code",
   "execution_count": null,
   "metadata": {
    "collapsed": true
   },
   "outputs": [],
   "source": []
  }
 ],
 "metadata": {
  "kernelspec": {
   "display_name": "Python 3",
   "language": "python",
   "name": "python3"
  },
  "language_info": {
   "codemirror_mode": {
    "name": "ipython",
    "version": 3
   },
   "file_extension": ".py",
   "mimetype": "text/x-python",
   "name": "python",
   "nbconvert_exporter": "python",
   "pygments_lexer": "ipython3",
   "version": "3.6.1"
  }
 },
 "nbformat": 4,
 "nbformat_minor": 2
}
