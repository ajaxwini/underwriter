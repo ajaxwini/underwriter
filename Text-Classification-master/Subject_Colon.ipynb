{
 "cells": [
  {
   "cell_type": "code",
   "execution_count": 74,
   "metadata": {
    "collapsed": true
   },
   "outputs": [],
   "source": [
    "import pandas as pd\n",
    "import numpy as np"
   ]
  },
  {
   "cell_type": "code",
   "execution_count": 75,
   "metadata": {},
   "outputs": [
    {
     "data": {
      "text/plain": [
       "'Gender: FEMALE\\nDOB : APR 20, 1977\\nProduct Type: Permanent\\nFace Amount: 50,000\\nFace updated\\nHad bypass in 2010. \\ntakes following medications:\\n1. Metoprolol (Blood pressure) - diagnosed 2014 - Takes 25 mg daily \\n2. Levothyroxine (Thyroid) - diagnosed 2016 - Takes 25 mg daily \\n'"
      ]
     },
     "execution_count": 75,
     "metadata": {},
     "output_type": "execute_result"
    }
   ],
   "source": [
    "df = pd.read_csv(\"under.csv\")\n",
    "df[\"Contents\"][0]\n"
   ]
  },
  {
   "cell_type": "code",
   "execution_count": 76,
   "metadata": {
    "collapsed": true
   },
   "outputs": [],
   "source": [
    "def rem_punt(doc):\n",
    "    for i in range(len(df[\"Contents\"])):\n",
    "        data = doc.lower()\n",
    "        index1 = data.rfind('subject')\n",
    "        index2 = data.rfind('thank')\n",
    "        if(index2 = -1):\n",
    "            index2 = data.rfind('thanks')\n",
    "            if(index2!=-1):\n",
    "                ans = data[index1:index2]\n",
    "                return ans\n",
    "            else\n",
    "                ans = data[index1:]\n",
    "        else:\n",
    "            return ans \n",
    "\n",
    "\n",
    "df['Before'] = df['Contents'].apply(rem_punt)\n",
    "df.drop(['Contents'],axis = 1 , inplace = True)\n"
   ]
  },
  {
   "cell_type": "code",
   "execution_count": 77,
   "metadata": {
    "scrolled": true
   },
   "outputs": [
    {
     "data": {
      "text/html": [
       "<div>\n",
       "<style>\n",
       "    .dataframe thead tr:only-child th {\n",
       "        text-align: right;\n",
       "    }\n",
       "\n",
       "    .dataframe thead th {\n",
       "        text-align: left;\n",
       "    }\n",
       "\n",
       "    .dataframe tbody tr th {\n",
       "        vertical-align: top;\n",
       "    }\n",
       "</style>\n",
       "<table border=\"1\" class=\"dataframe\">\n",
       "  <thead>\n",
       "    <tr style=\"text-align: right;\">\n",
       "      <th></th>\n",
       "      <th>Offer</th>\n",
       "      <th>Before</th>\n",
       "    </tr>\n",
       "  </thead>\n",
       "  <tbody>\n",
       "    <tr>\n",
       "      <th>0</th>\n",
       "      <td>A</td>\n",
       "      <td>face updated\\nhad bypass in 2010. \\ntakes foll...</td>\n",
       "    </tr>\n",
       "    <tr>\n",
       "      <th>1</th>\n",
       "      <td>B</td>\n",
       "      <td>face amount: 250,000\\non following medications...</td>\n",
       "    </tr>\n",
       "    <tr>\n",
       "      <th>2</th>\n",
       "      <td>A</td>\n",
       "      <td>face updated\\nhad bypass in 2010. \\ntakes foll...</td>\n",
       "    </tr>\n",
       "    <tr>\n",
       "      <th>3</th>\n",
       "      <td>B</td>\n",
       "      <td>face amount: 250,000\\non following medications...</td>\n",
       "    </tr>\n",
       "  </tbody>\n",
       "</table>\n",
       "</div>"
      ],
      "text/plain": [
       "  Offer                                             Before\n",
       "0     A  face updated\\nhad bypass in 2010. \\ntakes foll...\n",
       "1     B  face amount: 250,000\\non following medications...\n",
       "2     A  face updated\\nhad bypass in 2010. \\ntakes foll...\n",
       "3     B  face amount: 250,000\\non following medications..."
      ]
     },
     "execution_count": 77,
     "metadata": {},
     "output_type": "execute_result"
    }
   ],
   "source": [
    "df"
   ]
  },
  {
   "cell_type": "code",
   "execution_count": 78,
   "metadata": {
    "collapsed": true
   },
   "outputs": [],
   "source": [
    "df.to_csv('before_after.csv',index=False,encoding = \"utf-8\")"
   ]
  },
  {
   "cell_type": "code",
   "execution_count": null,
   "metadata": {
    "collapsed": true
   },
   "outputs": [],
   "source": []
  }
 ],
 "metadata": {
  "kernelspec": {
   "display_name": "Python 3",
   "language": "python",
   "name": "python3"
  },
  "language_info": {
   "codemirror_mode": {
    "name": "ipython",
    "version": 3
   },
   "file_extension": ".py",
   "mimetype": "text/x-python",
   "name": "python",
   "nbconvert_exporter": "python",
   "pygments_lexer": "ipython3",
   "version": "3.6.1"
  }
 },
 "nbformat": 4,
 "nbformat_minor": 2
}
